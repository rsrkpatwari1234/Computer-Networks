{
  "nbformat": 4,
  "nbformat_minor": 0,
  "metadata": {
    "colab": {
      "name": "networks_lab_assign1.ipynb",
      "provenance": [],
      "collapsed_sections": []
    },
    "kernelspec": {
      "name": "python3",
      "display_name": "Python 3"
    }
  },
  "cells": [
    {
      "cell_type": "code",
      "metadata": {
        "id": "zR2rHhepD0hX"
      },
      "source": [
        "import json"
      ],
      "execution_count": null,
      "outputs": []
    },
    {
      "cell_type": "code",
      "metadata": {
        "id": "wXVdp4KfBKgh"
      },
      "source": [
        "# Import pandas \n",
        "import pandas as pd \n",
        "  \n",
        "# reading csv file  \n",
        "data = pd.read_csv(\"testing_assign1.csv\") "
      ],
      "execution_count": null,
      "outputs": []
    },
    {
      "cell_type": "code",
      "metadata": {
        "colab": {
          "base_uri": "https://localhost:8080/",
          "height": 143
        },
        "id": "b4hRpb1EBxtF",
        "outputId": "3ac4d105-696f-4f22-97ed-04c67642b994"
      },
      "source": [
        "data[3:6]"
      ],
      "execution_count": null,
      "outputs": [
        {
          "output_type": "execute_result",
          "data": {
            "text/html": [
              "<div>\n",
              "<style scoped>\n",
              "    .dataframe tbody tr th:only-of-type {\n",
              "        vertical-align: middle;\n",
              "    }\n",
              "\n",
              "    .dataframe tbody tr th {\n",
              "        vertical-align: top;\n",
              "    }\n",
              "\n",
              "    .dataframe thead th {\n",
              "        text-align: right;\n",
              "    }\n",
              "</style>\n",
              "<table border=\"1\" class=\"dataframe\">\n",
              "  <thead>\n",
              "    <tr style=\"text-align: right;\">\n",
              "      <th></th>\n",
              "      <th>No.</th>\n",
              "      <th>Time</th>\n",
              "      <th>Source</th>\n",
              "      <th>Destination</th>\n",
              "      <th>Protocol</th>\n",
              "      <th>Length</th>\n",
              "      <th>Info</th>\n",
              "    </tr>\n",
              "  </thead>\n",
              "  <tbody>\n",
              "    <tr>\n",
              "      <th>3</th>\n",
              "      <td>4</td>\n",
              "      <td>0.000065</td>\n",
              "      <td>fe80::bd6d:93a5:f125:ec9d</td>\n",
              "      <td>fe80::56b8:2ff:febf:6046</td>\n",
              "      <td>DNS</td>\n",
              "      <td>109</td>\n",
              "      <td>Standard query 0x0cce AAAA clientservices.goog...</td>\n",
              "    </tr>\n",
              "    <tr>\n",
              "      <th>4</th>\n",
              "      <td>5</td>\n",
              "      <td>0.060493</td>\n",
              "      <td>192.168.43.146</td>\n",
              "      <td>239.255.255.250</td>\n",
              "      <td>SSDP</td>\n",
              "      <td>213</td>\n",
              "      <td>M-SEARCH * HTTP/1.1</td>\n",
              "    </tr>\n",
              "    <tr>\n",
              "      <th>5</th>\n",
              "      <td>6</td>\n",
              "      <td>0.109097</td>\n",
              "      <td>fd00:0:5:5::8</td>\n",
              "      <td>2402:3a80:a05:289:e98b:1832:1e21:c83d</td>\n",
              "      <td>DNS</td>\n",
              "      <td>125</td>\n",
              "      <td>Standard query response 0x9135 A clientservice...</td>\n",
              "    </tr>\n",
              "  </tbody>\n",
              "</table>\n",
              "</div>"
            ],
            "text/plain": [
              "   No.      Time  ... Length                                               Info\n",
              "3    4  0.000065  ...    109  Standard query 0x0cce AAAA clientservices.goog...\n",
              "4    5  0.060493  ...    213                               M-SEARCH * HTTP/1.1 \n",
              "5    6  0.109097  ...    125  Standard query response 0x9135 A clientservice...\n",
              "\n",
              "[3 rows x 7 columns]"
            ]
          },
          "metadata": {
            "tags": []
          },
          "execution_count": 19
        }
      ]
    },
    {
      "cell_type": "code",
      "metadata": {
        "colab": {
          "base_uri": "https://localhost:8080/"
        },
        "id": "IwScNM1DOTfA",
        "outputId": "f9d72630-af3e-42ba-d555-96f5a859a119"
      },
      "source": [
        "data[:].sum(axis = 0)"
      ],
      "execution_count": null,
      "outputs": [
        {
          "output_type": "execute_result",
          "data": {
            "text/plain": [
              "No.                                                      5234230\n",
              "Time                                                      165443\n",
              "Source         192.168.43.1462402:3a80:a05:289:e98b:1832:1e21...\n",
              "Destination    192.168.43.1fd00:0:5:5::8fe80::56b8:2ff:febf:6...\n",
              "Protocol       DNSDNSDNSDNSSSDPDNSDNSDNSICMPv6DNSTCPTCPTCPTCP...\n",
              "Length                                                   2350614\n",
              "Info           Standard query 0x9135 A clientservices.googlea...\n",
              "dtype: object"
            ]
          },
          "metadata": {
            "tags": []
          },
          "execution_count": 23
        }
      ]
    },
    {
      "cell_type": "code",
      "metadata": {
        "id": "eX7jJNMOQAv2"
      },
      "source": [
        "197202 + "
      ],
      "execution_count": null,
      "outputs": []
    },
    {
      "cell_type": "code",
      "metadata": {
        "id": "J5SZUcUPB9Zr"
      },
      "source": [
        "value = data[data.Protocol == 'HTTP']"
      ],
      "execution_count": null,
      "outputs": []
    },
    {
      "cell_type": "code",
      "metadata": {
        "colab": {
          "base_uri": "https://localhost:8080/",
          "height": 206
        },
        "id": "zZ75XiG5CqmP",
        "outputId": "362aef65-5f28-453f-c1e8-cefcdcce7998"
      },
      "source": [
        "value.head()"
      ],
      "execution_count": null,
      "outputs": [
        {
          "output_type": "execute_result",
          "data": {
            "text/html": [
              "<div>\n",
              "<style scoped>\n",
              "    .dataframe tbody tr th:only-of-type {\n",
              "        vertical-align: middle;\n",
              "    }\n",
              "\n",
              "    .dataframe tbody tr th {\n",
              "        vertical-align: top;\n",
              "    }\n",
              "\n",
              "    .dataframe thead th {\n",
              "        text-align: right;\n",
              "    }\n",
              "</style>\n",
              "<table border=\"1\" class=\"dataframe\">\n",
              "  <thead>\n",
              "    <tr style=\"text-align: right;\">\n",
              "      <th></th>\n",
              "      <th>No.</th>\n",
              "      <th>Time</th>\n",
              "      <th>Source</th>\n",
              "      <th>Destination</th>\n",
              "      <th>Protocol</th>\n",
              "      <th>Length</th>\n",
              "      <th>Info</th>\n",
              "    </tr>\n",
              "  </thead>\n",
              "  <tbody>\n",
              "    <tr>\n",
              "      <th>586</th>\n",
              "      <td>587</td>\n",
              "      <td>12.613228</td>\n",
              "      <td>2402:3a80:a05:289:e98b:1832:1e21:c83d</td>\n",
              "      <td>64:ff9b::cb6e:f5f4</td>\n",
              "      <td>HTTP</td>\n",
              "      <td>518</td>\n",
              "      <td>GET / HTTP/1.1</td>\n",
              "    </tr>\n",
              "    <tr>\n",
              "      <th>600</th>\n",
              "      <td>601</td>\n",
              "      <td>13.480792</td>\n",
              "      <td>2402:3a80:a05:289:e98b:1832:1e21:c83d</td>\n",
              "      <td>64:ff9b::cb6e:f5f4</td>\n",
              "      <td>HTTP</td>\n",
              "      <td>530</td>\n",
              "      <td>GET /resources/css/bootstrap.min.css;jsessioni...</td>\n",
              "    </tr>\n",
              "    <tr>\n",
              "      <th>601</th>\n",
              "      <td>602</td>\n",
              "      <td>13.482828</td>\n",
              "      <td>2402:3a80:a05:289:e98b:1832:1e21:c83d</td>\n",
              "      <td>64:ff9b::cb6e:f5f4</td>\n",
              "      <td>HTTP</td>\n",
              "      <td>529</td>\n",
              "      <td>GET /resources/css/font-awesome.css;jsessionid...</td>\n",
              "    </tr>\n",
              "    <tr>\n",
              "      <th>639</th>\n",
              "      <td>640</td>\n",
              "      <td>13.661615</td>\n",
              "      <td>2402:3a80:a05:289:e98b:1832:1e21:c83d</td>\n",
              "      <td>64:ff9b::cb6e:f5f4</td>\n",
              "      <td>HTTP</td>\n",
              "      <td>541</td>\n",
              "      <td>GET /resources/common_css/common_stylesheet.cs...</td>\n",
              "    </tr>\n",
              "    <tr>\n",
              "      <th>640</th>\n",
              "      <td>641</td>\n",
              "      <td>13.661668</td>\n",
              "      <td>2402:3a80:a05:289:e98b:1832:1e21:c83d</td>\n",
              "      <td>64:ff9b::cb6e:f5f4</td>\n",
              "      <td>HTTP</td>\n",
              "      <td>527</td>\n",
              "      <td>GET /resources/css/home_style.css;jsessionid=7...</td>\n",
              "    </tr>\n",
              "  </tbody>\n",
              "</table>\n",
              "</div>"
            ],
            "text/plain": [
              "     No.       Time  ... Length                                               Info\n",
              "586  587  12.613228  ...    518                                    GET / HTTP/1.1 \n",
              "600  601  13.480792  ...    530  GET /resources/css/bootstrap.min.css;jsessioni...\n",
              "601  602  13.482828  ...    529  GET /resources/css/font-awesome.css;jsessionid...\n",
              "639  640  13.661615  ...    541  GET /resources/common_css/common_stylesheet.cs...\n",
              "640  641  13.661668  ...    527  GET /resources/css/home_style.css;jsessionid=7...\n",
              "\n",
              "[5 rows x 7 columns]"
            ]
          },
          "metadata": {
            "tags": []
          },
          "execution_count": 4
        }
      ]
    },
    {
      "cell_type": "code",
      "metadata": {
        "id": "HaPLCyS7DjZI"
      },
      "source": [
        "ans = []\n",
        "for index, row in value.iterrows():\n",
        "    s = row['Info']\n",
        "    if(s.startswith('GET')):\n",
        "      Dict = {}\n",
        "      Dict['Frame Number'] = row['No.']\n",
        "      Dict['Time'] = row['Time']\n",
        "      Dict['Source IP'] = row['Source']\n",
        "      Dict['Destination IP'] = row['Destination']\n",
        "      Dict['Info'] = row['Info']\n",
        "      ans.append(Dict)"
      ],
      "execution_count": null,
      "outputs": []
    },
    {
      "cell_type": "code",
      "metadata": {
        "colab": {
          "base_uri": "https://localhost:8080/"
        },
        "id": "E6dcU72yDoyb",
        "outputId": "098b7379-7ea2-4e06-e81f-f368b6efa574"
      },
      "source": [
        "print(len(ans))"
      ],
      "execution_count": null,
      "outputs": [
        {
          "output_type": "stream",
          "text": [
            "19\n"
          ],
          "name": "stdout"
        }
      ]
    },
    {
      "cell_type": "code",
      "metadata": {
        "id": "DaPP5DMyHx2O"
      },
      "source": [
        "for i in range(len(ans)):\n",
        "  print(json.dumps(ans[i], indent = 4))"
      ],
      "execution_count": null,
      "outputs": []
    },
    {
      "cell_type": "code",
      "metadata": {
        "id": "SXakB0j2H4tK"
      },
      "source": [
        "ans_1 = []\n",
        "for index, row in value.iterrows():\n",
        "    s = row['Info']\n",
        "    if(s.startswith('GET')):\n",
        "      Dict = {}\n",
        "      Dict['HTTP GET request frame Number '] = row['No.']\n",
        "      Dict['HTTP GET response frame Number '] = ''\n",
        "      Dict['No. of TCP segments received '] =  1\n",
        "      Dict['Amount of data received as TCP segments(in bytes) '] = 4\n",
        "      Dict['Amount of data in the file received as response(in bytes) '] = 4\n",
        "      ans_1.append(Dict)"
      ],
      "execution_count": null,
      "outputs": []
    },
    {
      "cell_type": "code",
      "metadata": {
        "colab": {
          "base_uri": "https://localhost:8080/"
        },
        "id": "IK8wX4n0J7KT",
        "outputId": "998a8317-f670-41ef-c192-101d25e498a0"
      },
      "source": [
        "print(len(ans_1))"
      ],
      "execution_count": null,
      "outputs": [
        {
          "output_type": "stream",
          "text": [
            "19\n"
          ],
          "name": "stdout"
        }
      ]
    },
    {
      "cell_type": "code",
      "metadata": {
        "id": "-7QMj2-_KC9p",
        "colab": {
          "base_uri": "https://localhost:8080/"
        },
        "outputId": "e28382ab-eaf3-48d8-bc31-243b0a691253"
      },
      "source": [
        "for i in range(len(ans_1)):\n",
        "  print(ans_1[i]['HTTP GET request frame Number '])"
      ],
      "execution_count": null,
      "outputs": [
        {
          "output_type": "stream",
          "text": [
            "587\n",
            "601\n",
            "602\n",
            "640\n",
            "641\n",
            "642\n",
            "720\n",
            "721\n",
            "1663\n",
            "1799\n",
            "1808\n",
            "1809\n",
            "1810\n",
            "1811\n",
            "1857\n",
            "1895\n",
            "1906\n",
            "2005\n",
            "2291\n"
          ],
          "name": "stdout"
        }
      ]
    },
    {
      "cell_type": "code",
      "metadata": {
        "colab": {
          "base_uri": "https://localhost:8080/"
        },
        "id": "LmkjfghMw7k0",
        "outputId": "7bf562ba-1637-4680-e99c-96c988ce6ebe"
      },
      "source": [
        "for i in range(len(ans_1)):\n",
        "  print(json.dumps(ans_1[i], indent = 4))"
      ],
      "execution_count": null,
      "outputs": [
        {
          "output_type": "stream",
          "text": [
            "{\n",
            "    \"HTTP GET request frame Number \": 587,\n",
            "    \"HTTP GET response frame Number \": \"\",\n",
            "    \"No. of TCP segments received \": 1,\n",
            "    \"Amount of data received as TCP segments(in bytes) \": 4,\n",
            "    \"Amount of data in the file received as response(in bytes) \": 4\n",
            "}\n",
            "{\n",
            "    \"HTTP GET request frame Number \": 601,\n",
            "    \"HTTP GET response frame Number \": \"\",\n",
            "    \"No. of TCP segments received \": 1,\n",
            "    \"Amount of data received as TCP segments(in bytes) \": 4,\n",
            "    \"Amount of data in the file received as response(in bytes) \": 4\n",
            "}\n",
            "{\n",
            "    \"HTTP GET request frame Number \": 602,\n",
            "    \"HTTP GET response frame Number \": \"\",\n",
            "    \"No. of TCP segments received \": 1,\n",
            "    \"Amount of data received as TCP segments(in bytes) \": 4,\n",
            "    \"Amount of data in the file received as response(in bytes) \": 4\n",
            "}\n",
            "{\n",
            "    \"HTTP GET request frame Number \": 640,\n",
            "    \"HTTP GET response frame Number \": \"\",\n",
            "    \"No. of TCP segments received \": 1,\n",
            "    \"Amount of data received as TCP segments(in bytes) \": 4,\n",
            "    \"Amount of data in the file received as response(in bytes) \": 4\n",
            "}\n",
            "{\n",
            "    \"HTTP GET request frame Number \": 641,\n",
            "    \"HTTP GET response frame Number \": \"\",\n",
            "    \"No. of TCP segments received \": 1,\n",
            "    \"Amount of data received as TCP segments(in bytes) \": 4,\n",
            "    \"Amount of data in the file received as response(in bytes) \": 4\n",
            "}\n",
            "{\n",
            "    \"HTTP GET request frame Number \": 642,\n",
            "    \"HTTP GET response frame Number \": \"\",\n",
            "    \"No. of TCP segments received \": 1,\n",
            "    \"Amount of data received as TCP segments(in bytes) \": 4,\n",
            "    \"Amount of data in the file received as response(in bytes) \": 4\n",
            "}\n",
            "{\n",
            "    \"HTTP GET request frame Number \": 720,\n",
            "    \"HTTP GET response frame Number \": \"\",\n",
            "    \"No. of TCP segments received \": 1,\n",
            "    \"Amount of data received as TCP segments(in bytes) \": 4,\n",
            "    \"Amount of data in the file received as response(in bytes) \": 4\n",
            "}\n",
            "{\n",
            "    \"HTTP GET request frame Number \": 721,\n",
            "    \"HTTP GET response frame Number \": \"\",\n",
            "    \"No. of TCP segments received \": 1,\n",
            "    \"Amount of data received as TCP segments(in bytes) \": 4,\n",
            "    \"Amount of data in the file received as response(in bytes) \": 4\n",
            "}\n",
            "{\n",
            "    \"HTTP GET request frame Number \": 1663,\n",
            "    \"HTTP GET response frame Number \": \"\",\n",
            "    \"No. of TCP segments received \": 1,\n",
            "    \"Amount of data received as TCP segments(in bytes) \": 4,\n",
            "    \"Amount of data in the file received as response(in bytes) \": 4\n",
            "}\n",
            "{\n",
            "    \"HTTP GET request frame Number \": 1799,\n",
            "    \"HTTP GET response frame Number \": \"\",\n",
            "    \"No. of TCP segments received \": 1,\n",
            "    \"Amount of data received as TCP segments(in bytes) \": 4,\n",
            "    \"Amount of data in the file received as response(in bytes) \": 4\n",
            "}\n",
            "{\n",
            "    \"HTTP GET request frame Number \": 1808,\n",
            "    \"HTTP GET response frame Number \": \"\",\n",
            "    \"No. of TCP segments received \": 1,\n",
            "    \"Amount of data received as TCP segments(in bytes) \": 4,\n",
            "    \"Amount of data in the file received as response(in bytes) \": 4\n",
            "}\n",
            "{\n",
            "    \"HTTP GET request frame Number \": 1809,\n",
            "    \"HTTP GET response frame Number \": \"\",\n",
            "    \"No. of TCP segments received \": 1,\n",
            "    \"Amount of data received as TCP segments(in bytes) \": 4,\n",
            "    \"Amount of data in the file received as response(in bytes) \": 4\n",
            "}\n",
            "{\n",
            "    \"HTTP GET request frame Number \": 1810,\n",
            "    \"HTTP GET response frame Number \": \"\",\n",
            "    \"No. of TCP segments received \": 1,\n",
            "    \"Amount of data received as TCP segments(in bytes) \": 4,\n",
            "    \"Amount of data in the file received as response(in bytes) \": 4\n",
            "}\n",
            "{\n",
            "    \"HTTP GET request frame Number \": 1811,\n",
            "    \"HTTP GET response frame Number \": \"\",\n",
            "    \"No. of TCP segments received \": 1,\n",
            "    \"Amount of data received as TCP segments(in bytes) \": 4,\n",
            "    \"Amount of data in the file received as response(in bytes) \": 4\n",
            "}\n",
            "{\n",
            "    \"HTTP GET request frame Number \": 1857,\n",
            "    \"HTTP GET response frame Number \": \"\",\n",
            "    \"No. of TCP segments received \": 1,\n",
            "    \"Amount of data received as TCP segments(in bytes) \": 4,\n",
            "    \"Amount of data in the file received as response(in bytes) \": 4\n",
            "}\n",
            "{\n",
            "    \"HTTP GET request frame Number \": 1895,\n",
            "    \"HTTP GET response frame Number \": \"\",\n",
            "    \"No. of TCP segments received \": 1,\n",
            "    \"Amount of data received as TCP segments(in bytes) \": 4,\n",
            "    \"Amount of data in the file received as response(in bytes) \": 4\n",
            "}\n",
            "{\n",
            "    \"HTTP GET request frame Number \": 1906,\n",
            "    \"HTTP GET response frame Number \": \"\",\n",
            "    \"No. of TCP segments received \": 1,\n",
            "    \"Amount of data received as TCP segments(in bytes) \": 4,\n",
            "    \"Amount of data in the file received as response(in bytes) \": 4\n",
            "}\n",
            "{\n",
            "    \"HTTP GET request frame Number \": 2005,\n",
            "    \"HTTP GET response frame Number \": \"\",\n",
            "    \"No. of TCP segments received \": 1,\n",
            "    \"Amount of data received as TCP segments(in bytes) \": 4,\n",
            "    \"Amount of data in the file received as response(in bytes) \": 4\n",
            "}\n",
            "{\n",
            "    \"HTTP GET request frame Number \": 2291,\n",
            "    \"HTTP GET response frame Number \": \"\",\n",
            "    \"No. of TCP segments received \": 1,\n",
            "    \"Amount of data received as TCP segments(in bytes) \": 4,\n",
            "    \"Amount of data in the file received as response(in bytes) \": 4\n",
            "}\n"
          ],
          "name": "stdout"
        }
      ]
    },
    {
      "cell_type": "code",
      "metadata": {
        "id": "HNSz4RpuPuvx"
      },
      "source": [
        "from prettytable import PrettyTable\n",
        "x = PrettyTable()"
      ],
      "execution_count": null,
      "outputs": []
    },
    {
      "cell_type": "code",
      "metadata": {
        "id": "u6hNfADuQCdC"
      },
      "source": [
        "x.field_names = [\"GET request frame No.\", \"GET response frame No.\", \"No. of TCP segments received\", \"Amount of data received as TCP segments(in bytes)\",\"Amount of data in the file received as response(in bytes)\"]\n",
        "for i in range(len(ans_1)):\n",
        "  x.add_row([ans_1[i]['HTTP GET request frame Number '],ans_1[i]['HTTP GET response frame Number '],ans_1[i]['No. of TCP segments received '],ans_1[i]['Amount of data received as TCP segments(in bytes) ']])"
      ],
      "execution_count": null,
      "outputs": []
    },
    {
      "cell_type": "code",
      "metadata": {
        "colab": {
          "base_uri": "https://localhost:8080/"
        },
        "id": "X-7pn5wUUnK4",
        "outputId": "6cd91e98-ffe3-42eb-b1dc-54066f4f8e05"
      },
      "source": [
        "import json\n",
        "\n",
        "with open('lab_assign1.json') as f:\n",
        "\tdata = json.load(f)\n",
        "#print(data[0])\n",
        "Queries = []\n",
        "Answers = []\n",
        "for packet in data :\n",
        "  if not 'dns' in packet['_source']['layers']:\n",
        "    continue\n",
        "  if not 'Answers' in packet['_source']['layers']['dns']:\n",
        "    continue\n",
        "  queries = packet['_source']['layers']['dns']['Queries']\n",
        "  answers = packet['_source']['layers']['dns']['Answers']\n",
        "  take_domain = False\n",
        "  ip_list = []\n",
        "  domain_list = []\n",
        "  for answer in answers:\n",
        "    if answers[answer]['dns.resp.type'] == '1':\n",
        "      take_domain = True\n",
        "      ip_list.append(answers[answer]['dns.a'])\n",
        "    elif answers[answer]['dns.resp.type'] == '28':\n",
        "      take_domain = True\n",
        "      ip_list.append(answers[answer]['dns.aaaa'])\n",
        "  \n",
        "  if take_domain == True:\n",
        "    Answers.append(ip_list)\n",
        "    for query in queries:\n",
        "      val = queries[query]['dns.qry.name']\n",
        "    for i in range(len(ip_list)):\n",
        "      domain_list.append(val)\n",
        "    Queries.append(domain_list)\n",
        "\n",
        "print(len(Queries))\n",
        "print(len(Answers))\n",
        "\n",
        "for i in range(len(Answers)):\n",
        "  for j in range(len(Answers[i])):\n",
        "    print(\"Domain Name : \",Queries[i][j],\" , IP : \",Answers[i][j])"
      ],
      "execution_count": null,
      "outputs": [
        {
          "output_type": "stream",
          "text": [
            "128\n",
            "128\n",
            "Domain Name :  clientservices.googleapis.com  , IP :  172.217.174.227\n",
            "Domain Name :  clientservices.googleapis.com  , IP :  172.217.174.227\n",
            "Domain Name :  clientservices.googleapis.com  , IP :  172.217.174.227\n",
            "Domain Name :  clientservices.googleapis.com  , IP :  172.217.174.227\n",
            "Domain Name :  clientservices.googleapis.com  , IP :  2404:6800:4009:801::2003\n",
            "Domain Name :  accounts.google.com  , IP :  142.250.183.13\n",
            "Domain Name :  accounts.google.com  , IP :  2404:6800:4009:820::200d\n",
            "Domain Name :  www.google.com  , IP :  216.58.203.36\n",
            "Domain Name :  www.google.com  , IP :  2404:6800:4009:80f::2004\n",
            "Domain Name :  ws.mailtrack.io  , IP :  34.249.6.34\n",
            "Domain Name :  ws.mailtrack.io  , IP :  52.210.126.235\n",
            "Domain Name :  ws.mailtrack.io  , IP :  52.209.88.111\n",
            "Domain Name :  ws.mailtrack.io  , IP :  52.17.241.162\n",
            "Domain Name :  ws.mailtrack.io  , IP :  108.128.65.19\n",
            "Domain Name :  ws.mailtrack.io  , IP :  108.128.74.148\n",
            "Domain Name :  www.googleapis.com  , IP :  2404:6800:4009:824::200a\n",
            "Domain Name :  www.googleapis.com  , IP :  2404:6800:4009:81d::200a\n",
            "Domain Name :  www.googleapis.com  , IP :  2404:6800:4009:81f::200a\n",
            "Domain Name :  www.googleapis.com  , IP :  2404:6800:4009:820::200a\n",
            "Domain Name :  www.googleapis.com  , IP :  142.250.183.10\n",
            "Domain Name :  www.googleapis.com  , IP :  142.250.183.138\n",
            "Domain Name :  www.googleapis.com  , IP :  172.217.167.170\n",
            "Domain Name :  www.googleapis.com  , IP :  172.217.174.234\n",
            "Domain Name :  www.googleapis.com  , IP :  216.58.203.42\n",
            "Domain Name :  www.googleapis.com  , IP :  142.250.67.138\n",
            "Domain Name :  www.googleapis.com  , IP :  142.250.67.170\n",
            "Domain Name :  www.googleapis.com  , IP :  142.250.67.202\n",
            "Domain Name :  www.googleapis.com  , IP :  142.250.76.170\n",
            "Domain Name :  www.googleapis.com  , IP :  172.217.160.170\n",
            "Domain Name :  www.googleapis.com  , IP :  172.217.166.74\n",
            "Domain Name :  www.googleapis.com  , IP :  172.217.160.202\n",
            "Domain Name :  www.googleapis.com  , IP :  142.250.67.234\n",
            "Domain Name :  www.googleapis.com  , IP :  142.250.77.42\n",
            "Domain Name :  www.googleapis.com  , IP :  142.250.182.202\n",
            "Domain Name :  www.googleapis.com  , IP :  142.250.182.234\n",
            "Domain Name :  ws.mailtrack.io  , IP :  64:ff9b::3411:f1a2\n",
            "Domain Name :  ws.mailtrack.io  , IP :  64:ff9b::6c80:4113\n",
            "Domain Name :  ws.mailtrack.io  , IP :  64:ff9b::6c80:4a94\n",
            "Domain Name :  ws.mailtrack.io  , IP :  64:ff9b::22f9:622\n",
            "Domain Name :  ws.mailtrack.io  , IP :  64:ff9b::34d2:7eeb\n",
            "Domain Name :  ws.mailtrack.io  , IP :  64:ff9b::34d1:586f\n",
            "Domain Name :  clients4.google.com  , IP :  142.250.67.174\n",
            "Domain Name :  clients4.google.com  , IP :  2404:6800:4009:812::200e\n",
            "Domain Name :  fonts.gstatic.com  , IP :  142.250.67.227\n",
            "Domain Name :  fonts.gstatic.com  , IP :  2404:6800:4009:814::2003\n",
            "Domain Name :  oauthaccountmanager.googleapis.com  , IP :  216.58.203.10\n",
            "Domain Name :  oauthaccountmanager.googleapis.com  , IP :  2404:6800:4009:80c::200a\n",
            "Domain Name :  ogs.google.com  , IP :  142.250.77.46\n",
            "Domain Name :  ogs.google.com  , IP :  2404:6800:4009:81c::200e\n",
            "Domain Name :  www.gstatic.com  , IP :  2404:6800:4009:815::2003\n",
            "Domain Name :  ssl.gstatic.com  , IP :  2404:6800:4009:812::2003\n",
            "Domain Name :  apis.google.com  , IP :  216.58.203.46\n",
            "Domain Name :  www.gstatic.com  , IP :  172.217.174.67\n",
            "Domain Name :  ssl.gstatic.com  , IP :  142.250.67.163\n",
            "Domain Name :  apis.google.com  , IP :  2404:6800:4009:80f::200e\n",
            "Domain Name :  play.google.com  , IP :  172.217.166.174\n",
            "Domain Name :  play.google.com  , IP :  2404:6800:4009:80e::200e\n",
            "Domain Name :  mtalk.google.com  , IP :  74.125.200.188\n",
            "Domain Name :  mtalk.google.com  , IP :  2404:6800:4003:c04::bc\n",
            "Domain Name :  update.googleapis.com  , IP :  142.250.67.163\n",
            "Domain Name :  update.googleapis.com  , IP :  2404:6800:4009:812::2003\n",
            "Domain Name :  iitkgp.ac.in  , IP :  203.110.245.244\n",
            "Domain Name :  iitkgp.ac.in  , IP :  64:ff9b::cb6e:f5f4\n",
            "Domain Name :  erp.iitkgp.ac.in  , IP :  203.110.245.60\n",
            "Domain Name :  erp.iitkgp.ac.in  , IP :  203.110.245.59\n",
            "Domain Name :  erp.iitkgp.ac.in  , IP :  64:ff9b::cb6e:f53b\n",
            "Domain Name :  erp.iitkgp.ac.in  , IP :  64:ff9b::cb6e:f53c\n",
            "Domain Name :  www.rajbhasha.iitkgp.ac.in  , IP :  203.110.245.243\n",
            "Domain Name :  www.rajbhasha.iitkgp.ac.in  , IP :  64:ff9b::cb6e:f5f3\n",
            "Domain Name :  www.sric.iitkgp.ac.in  , IP :  203.110.245.243\n",
            "Domain Name :  www.sric.iitkgp.ac.in  , IP :  64:ff9b::cb6e:f5f3\n",
            "Domain Name :  kgpchronicle.iitkgp.ac.in  , IP :  203.110.242.132\n",
            "Domain Name :  international.iitkgp.ac.in  , IP :  203.110.242.133\n",
            "Domain Name :  international.iitkgp.ac.in  , IP :  64:ff9b::cb6e:f285\n",
            "Domain Name :  kgpchronicle.iitkgp.ac.in  , IP :  64:ff9b::cb6e:f284\n",
            "Domain Name :  som.iitkgp.ac.in  , IP :  203.110.240.154\n",
            "Domain Name :  som.iitkgp.ac.in  , IP :  64:ff9b::cb6e:f09a\n",
            "Domain Name :  gate.iitkgp.ac.in  , IP :  203.110.245.11\n",
            "Domain Name :  gate.iitkgp.ac.in  , IP :  64:ff9b::cb6e:f50b\n",
            "Domain Name :  www.cep.iitkgp.ac.in  , IP :  203.110.245.243\n",
            "Domain Name :  www.cep.iitkgp.ac.in  , IP :  64:ff9b::cb6e:f5f3\n",
            "Domain Name :  www.counsellingcentre.iitkgp.ac.in  , IP :  203.110.245.243\n",
            "Domain Name :  www.counsellingcentre.iitkgp.ac.in  , IP :  64:ff9b::cb6e:f5f3\n",
            "Domain Name :  www.dak.iitkgp.ernet.in  , IP :  203.110.246.11\n",
            "Domain Name :  www.dak.iitkgp.ernet.in  , IP :  64:ff9b::cb6e:f60b\n",
            "Domain Name :  www.gian.iitkgp.ac.in  , IP :  203.110.245.243\n",
            "Domain Name :  www.gian.iitkgp.ac.in  , IP :  64:ff9b::cb6e:f5f3\n",
            "Domain Name :  www.international.iitkgp.ac.in  , IP :  203.110.245.243\n",
            "Domain Name :  www.international.iitkgp.ac.in  , IP :  64:ff9b::cb6e:f5f3\n",
            "Domain Name :  www.library.iitkgp.ac.in  , IP :  203.110.245.243\n",
            "Domain Name :  www.library.iitkgp.ac.in  , IP :  64:ff9b::cb6e:f5f3\n",
            "Domain Name :  www.som.iitkgp.ac.in  , IP :  203.110.245.243\n",
            "Domain Name :  www.som.iitkgp.ac.in  , IP :  64:ff9b::cb6e:f5f3\n",
            "Domain Name :  www.tgh.iitkgp.ac.in  , IP :  203.110.245.243\n",
            "Domain Name :  www.tgh.iitkgp.ac.in  , IP :  64:ff9b::cb6e:f5f3\n",
            "Domain Name :  iitkgpmail.iitkgp.ac.in  , IP :  203.110.245.235\n",
            "Domain Name :  iitkgpmail.iitkgp.ac.in  , IP :  64:ff9b::cb6e:f5eb\n",
            "Domain Name :  www.iitkgp.ac.in  , IP :  203.110.245.244\n",
            "Domain Name :  www.iitkgp.ac.in  , IP :  64:ff9b::cb6e:f5f4\n",
            "Domain Name :  www1.iitkgp.ac.in  , IP :  203.110.245.243\n",
            "Domain Name :  www1.iitkgp.ac.in  , IP :  64:ff9b::cb6e:f5f3\n",
            "Domain Name :  mail.google.com  , IP :  172.217.26.229\n",
            "Domain Name :  mail.google.com  , IP :  2404:6800:4009:805::2005\n",
            "Domain Name :  twitter.com  , IP :  104.244.42.193\n",
            "Domain Name :  twitter.com  , IP :  64:ff9b::68f4:2ac1\n",
            "Domain Name :  www.facebook.com  , IP :  31.13.79.35\n",
            "Domain Name :  www.facebook.com  , IP :  2a03:2880:f12f:183:face:b00c:0:25de\n",
            "Domain Name :  www.nvsp.in  , IP :  117.239.183.240\n",
            "Domain Name :  www.nvsp.in  , IP :  64:ff9b::75ef:b7f0\n",
            "Domain Name :  www.linkedin.com  , IP :  2620:1ec:21::14\n",
            "Domain Name :  www.linkedin.com  , IP :  13.107.42.14\n",
            "Domain Name :  www.jeeadv.ac.in  , IP :  35.192.176.149\n",
            "Domain Name :  www.pmrf.in  , IP :  64:ff9b::23d0:91b1\n",
            "Domain Name :  www.pmrf.in  , IP :  35.208.145.177\n",
            "Domain Name :  www.youtube.com  , IP :  216.58.196.78\n",
            "Domain Name :  www.youtube.com  , IP :  172.217.160.174\n",
            "Domain Name :  www.youtube.com  , IP :  172.217.166.78\n",
            "Domain Name :  www.youtube.com  , IP :  172.217.27.206\n",
            "Domain Name :  www.youtube.com  , IP :  172.217.160.206\n",
            "Domain Name :  www.youtube.com  , IP :  172.217.166.46\n",
            "Domain Name :  www.youtube.com  , IP :  172.217.166.174\n",
            "Domain Name :  www.youtube.com  , IP :  142.250.67.238\n",
            "Domain Name :  www.youtube.com  , IP :  142.250.183.142\n",
            "Domain Name :  www.youtube.com  , IP :  172.217.167.174\n",
            "Domain Name :  www.youtube.com  , IP :  172.217.174.238\n",
            "Domain Name :  www.youtube.com  , IP :  216.58.203.14\n",
            "Domain Name :  www.youtube.com  , IP :  142.250.67.174\n",
            "Domain Name :  www.youtube.com  , IP :  142.250.76.206\n",
            "Domain Name :  www.youtube.com  , IP :  172.217.26.238\n",
            "Domain Name :  www.youtube.com  , IP :  216.58.203.142\n",
            "Domain Name :  www.youtube.com  , IP :  2404:6800:4009:81a::200e\n",
            "Domain Name :  www.youtube.com  , IP :  2404:6800:4009:811::200e\n",
            "Domain Name :  www.youtube.com  , IP :  2404:6800:4009:812::200e\n",
            "Domain Name :  www.youtube.com  , IP :  2404:6800:4009:813::200e\n",
            "Domain Name :  www.vidyalakshmi.co.in  , IP :  121.240.246.10\n",
            "Domain Name :  www.vidyalakshmi.co.in  , IP :  64:ff9b::79f0:f60a\n",
            "Domain Name :  www.jeeadv.ac.in  , IP :  64:ff9b::23c0:b095\n",
            "Domain Name :  update.googleapis.com  , IP :  142.250.67.163\n",
            "Domain Name :  update.googleapis.com  , IP :  142.250.67.163\n",
            "Domain Name :  update.googleapis.com  , IP :  2404:6800:4009:812::2003\n",
            "Domain Name :  update.googleapis.com  , IP :  142.250.67.163\n",
            "Domain Name :  erp.iitkgp.ac.in  , IP :  203.110.245.59\n",
            "Domain Name :  erp.iitkgp.ac.in  , IP :  203.110.245.60\n",
            "Domain Name :  erp.iitkgp.ac.in  , IP :  64:ff9b::cb6e:f53c\n",
            "Domain Name :  erp.iitkgp.ac.in  , IP :  64:ff9b::cb6e:f53b\n",
            "Domain Name :  erp.iitkgp.ac.in  , IP :  203.110.245.60\n",
            "Domain Name :  erp.iitkgp.ac.in  , IP :  203.110.245.59\n",
            "Domain Name :  erp.iitkgp.ac.in  , IP :  203.110.245.59\n",
            "Domain Name :  erp.iitkgp.ac.in  , IP :  203.110.245.60\n",
            "Domain Name :  erp.iitkgp.ac.in  , IP :  203.110.245.59\n",
            "Domain Name :  erp.iitkgp.ac.in  , IP :  203.110.245.60\n",
            "Domain Name :  erp.iitkgp.ac.in  , IP :  64:ff9b::cb6e:f53b\n",
            "Domain Name :  erp.iitkgp.ac.in  , IP :  64:ff9b::cb6e:f53c\n",
            "Domain Name :  erp.iitkgp.ac.in  , IP :  203.110.245.59\n",
            "Domain Name :  erp.iitkgp.ac.in  , IP :  203.110.245.60\n",
            "Domain Name :  safebrowsing.googleapis.com  , IP :  172.217.166.42\n",
            "Domain Name :  safebrowsing.googleapis.com  , IP :  2404:6800:4009:80c::200a\n",
            "Domain Name :  iitkgp.ac.in  , IP :  203.110.245.244\n",
            "Domain Name :  iitkgp.ac.in  , IP :  64:ff9b::cb6e:f5f4\n",
            "Domain Name :  www.google.com  , IP :  2404:6800:4009:80f::2004\n",
            "Domain Name :  www.google.com  , IP :  216.58.203.36\n",
            "Domain Name :  beacons.gcp.gvt2.com  , IP :  216.58.199.179\n",
            "Domain Name :  beacons.gcp.gvt2.com  , IP :  2404:6800:4009:807::2013\n",
            "Domain Name :  www.cornell.edu  , IP :  20.42.25.107\n",
            "Domain Name :  www.cornell.edu  , IP :  20.42.25.107\n",
            "Domain Name :  www.cornell.edu  , IP :  20.42.25.107\n",
            "Domain Name :  use.typekit.net  , IP :  104.94.18.176\n",
            "Domain Name :  use.typekit.net  , IP :  104.94.18.177\n",
            "Domain Name :  use.typekit.net  , IP :  2402:3a80:c000:25::2a6a:a237\n",
            "Domain Name :  use.typekit.net  , IP :  2402:3a80:c000:25::2a6a:a230\n",
            "Domain Name :  www.cornell.edu  , IP :  64:ff9b::142a:196b\n",
            "Domain Name :  embanner.univcomm.cornell.edu  , IP :  20.42.25.107\n",
            "Domain Name :  embanner.univcomm.cornell.edu  , IP :  64:ff9b::142a:196b\n",
            "Domain Name :  ssl.google-analytics.com  , IP :  172.217.26.232\n",
            "Domain Name :  ssl.google-analytics.com  , IP :  2404:6800:4009:80c::2008\n",
            "Domain Name :  cdnsecakmi.kaltura.com  , IP :  23.209.112.140\n",
            "Domain Name :  cdnsecakmi.kaltura.com  , IP :  64:ff9b::17d1:708c\n",
            "Domain Name :  6120104.global.siteimproveanalytics.io  , IP :  18.158.85.68\n",
            "Domain Name :  6120104.global.siteimproveanalytics.io  , IP :  18.159.119.149\n",
            "Domain Name :  6120104.global.siteimproveanalytics.io  , IP :  64:ff9b::129e:5544\n",
            "Domain Name :  6120104.global.siteimproveanalytics.io  , IP :  64:ff9b::129f:7795\n",
            "Domain Name :  p.typekit.net  , IP :  2600:140f:d400:19a::19fd\n",
            "Domain Name :  p.typekit.net  , IP :  2600:140f:d400:189::19fd\n",
            "Domain Name :  p.typekit.net  , IP :  2600:140f:d400:19a::19fd\n",
            "Domain Name :  p.typekit.net  , IP :  2600:140f:d400:189::19fd\n",
            "Domain Name :  p.typekit.net  , IP :  2600:140f:d400:189::19fd\n",
            "Domain Name :  p.typekit.net  , IP :  2600:140f:d400:19a::19fd\n",
            "Domain Name :  p.typekit.net  , IP :  104.122.1.130\n",
            "Domain Name :  p.typekit.net  , IP :  104.122.1.130\n",
            "Domain Name :  p.typekit.net  , IP :  104.122.1.130\n"
          ],
          "name": "stdout"
        }
      ]
    },
    {
      "cell_type": "code",
      "metadata": {
        "id": "OWOLTgRGeu1b"
      },
      "source": [
        ""
      ],
      "execution_count": null,
      "outputs": []
    }
  ]
}