{
  "nbformat": 4,
  "nbformat_minor": 0,
  "metadata": {
    "colab": {
      "name": "networks_lab_assign2.ipynb",
      "provenance": [],
      "collapsed_sections": []
    },
    "kernelspec": {
      "name": "python3",
      "display_name": "Python 3"
    }
  },
  "cells": [
    {
      "cell_type": "markdown",
      "metadata": {
        "id": "hvF1gFUB1aIM"
      },
      "source": [
        "# CS 39006: Networks Lab\n",
        "# Assignment 2: Packet Sniffer and Packet Analyzer -- Exploring Further\n",
        "\n",
        "## Name : Radhika Patwari\n",
        "## Roll no. : 18CS10062"
      ]
    },
    {
      "cell_type": "markdown",
      "metadata": {
        "id": "bmRdDtHPJLsN"
      },
      "source": [
        "## Installing 3 libraries required for various operations\n",
        "\n",
        "\n",
        "1.   xmltodict : It parses xml file (.pdml extension) into dictionary for carrying various operations [Info :  https://pypi.org/project/xmltodict/]\n",
        "2.   ip2geotools : It takes an ip address and returns a 2-character coutry code\n",
        "3.   pycountry : It takes up the country code and returns the corresponding country name "
      ]
    },
    {
      "cell_type": "code",
      "metadata": {
        "id": "5iVvAYgM1ZRp"
      },
      "source": [
        "!pip install xmltodict\n",
        "!pip install ip2geotools\n",
        "!pip install pycountry"
      ],
      "execution_count": null,
      "outputs": []
    },
    {
      "cell_type": "markdown",
      "metadata": {
        "id": "wcQbmQBpNIth"
      },
      "source": [
        "## Importing the required libraries"
      ]
    },
    {
      "cell_type": "code",
      "metadata": {
        "id": "fm2YfD67Mjeh"
      },
      "source": [
        "import xmltodict                                            # xml to dict library\n",
        "import json                                                 # printing and checking in json format\n",
        "from ip2geotools.databases.noncommercial import DbIpCity    # ip to country code\n",
        "import pycountry                                            # country code to country name conversion"
      ],
      "execution_count": 2,
      "outputs": []
    },
    {
      "cell_type": "markdown",
      "metadata": {
        "id": "mRXa2H4xNo2w"
      },
      "source": [
        "## Reading up the Xml file and storing the dictionary \n",
        "\n",
        "### Upload the .pdml file containing the HTTP Requests to google collab and store the path of the file in `xml_file` accordingly"
      ]
    },
    {
      "cell_type": "code",
      "metadata": {
        "id": "_LSFNgqHdBoD"
      },
      "source": [
        "xml_file = '/content/assign2_http_get_requests.pdml'\n",
        "with open(xml_file, 'r', encoding='utf-8') as fd:\n",
        "    xml_data = xmltodict.parse(fd.read())"
      ],
      "execution_count": 3,
      "outputs": []
    },
    {
      "cell_type": "markdown",
      "metadata": {
        "id": "U1J5X3KwOjiR"
      },
      "source": [
        "## Performing minor tests to ensure proper storage of parsed xml file"
      ]
    },
    {
      "cell_type": "code",
      "metadata": {
        "id": "gL5pso1qiUYj"
      },
      "source": [
        "print(len(xml_data['pdml']['packet']))\n",
        "print(type(xml_data['pdml']['packet']))\n",
        "print(json.dumps(xml_data['pdml']['packet'][0]['proto'][5],indent=4))\n",
        "print(type(xml_data['pdml']['packet'][0]['proto'][0]))"
      ],
      "execution_count": null,
      "outputs": []
    },
    {
      "cell_type": "markdown",
      "metadata": {
        "id": "KkqqWfh4PPnf"
      },
      "source": [
        "## Extracting IP Addresses of clients that accessed LearnBasics service through the FreeBasics HTTP proxy (Internet.org) of Facebook\n",
        "\n",
        "### There are basically 3 types of http requests :\n",
        "\n",
        "\n",
        "1.   Users that accessed the LearnBasics service via web and not through any proxy client\n",
        "2.   Users that accessed the LearnBasics service via FreeBasics HTTP Proxy (Internet.org)\n",
        "3. Users that accessed the LearnBasics service via a third party proxy server (other than FreeBasics proxy server)\n",
        "\n",
        "For a HTTP request , the field `x_forwarded_for` contains the ip address of original user when the request passes through a proxy client. This separates the users that have accessed the LearnBasics service without using any proxy server.\n",
        "Another field `Via: Internet.org` indicates that the request has come through Internet.org proxy server provided by Facebook.\n",
        "Thus all the requests having these two fields are the requests coming through FreeBasics proxy server.\n",
        "\n",
        "### Below code extracts these ip addresses by checking these 2 fields for every http packet :\n",
        "\n",
        "[ Total 2534 HTTP GET requests have been made through FreeBasics HTTP Proxy ]"
      ]
    },
    {
      "cell_type": "code",
      "metadata": {
        "colab": {
          "base_uri": "https://localhost:8080/"
        },
        "id": "PMdloP_tYCKn",
        "outputId": "77da4a83-75ca-4846-e0c6-4b1fbc6b3a2d"
      },
      "source": [
        "ctr_used_proxy = 0              # counts requests coming through some proxy server\n",
        "ctr_used_freebasic_proxy = 0    # counts requests coming through FreeBasics Proxy server (Internet.org)\n",
        "ip_addresses = []               # stores the final list of required ip addresses\n",
        "\n",
        "for packet in xml_data['pdml']['packet']:\n",
        "  used_proxy = False\n",
        "  used_freebasic_proxy = False\n",
        "  for proto in packet['proto']:\n",
        "    if(proto['@name'] == 'http'):\n",
        "      field = proto['field']\n",
        "      for http in field:\n",
        "        if(http['@name'] == 'http.x_forwarded_for'):\n",
        "          used_proxy = True\n",
        "          ctr_used_proxy = ctr_used_proxy + 1\n",
        "          ip = http['@show']\n",
        "        if(http['@show'] == 'Via: Internet.org '):\n",
        "          used_freebasic_proxy = True\n",
        "          ctr_used_freebasic_proxy = ctr_used_freebasic_proxy + 1\n",
        "  if(used_proxy and used_freebasic_proxy):\n",
        "    ip_addresses.append(ip)\n",
        "\n",
        "print(ctr_used_proxy)\n",
        "print(ctr_used_freebasic_proxy)\n",
        "print(len(ip_addresses))"
      ],
      "execution_count": 5,
      "outputs": [
        {
          "output_type": "stream",
          "text": [
            "2539\n",
            "2534\n",
            "2534\n"
          ],
          "name": "stdout"
        }
      ]
    },
    {
      "cell_type": "markdown",
      "metadata": {
        "id": "LJhT5T4VaKh-"
      },
      "source": [
        "## Removing duplicate elements from the list of ip addresses\n",
        "\n",
        "[ Total 481 distinct IP addresses are present ] "
      ]
    },
    {
      "cell_type": "code",
      "metadata": {
        "colab": {
          "base_uri": "https://localhost:8080/"
        },
        "id": "9bsyFxSTZyYm",
        "outputId": "feabe2ca-bc34-485a-f393-0b2cfc1a5caa"
      },
      "source": [
        "ip_addresses = set(ip_addresses)\n",
        "print(len(ip_addresses))"
      ],
      "execution_count": 6,
      "outputs": [
        {
          "output_type": "stream",
          "text": [
            "481\n"
          ],
          "name": "stdout"
        }
      ]
    },
    {
      "cell_type": "markdown",
      "metadata": {
        "id": "79-Xk9ad1Mpy"
      },
      "source": [
        "## IP address to country name conversion \n",
        "\n",
        "### We iterate through the `ip_addresses` list and find the country code and corresponding country name for the respective ip address and store in `country_ip`"
      ]
    },
    {
      "cell_type": "code",
      "metadata": {
        "id": "NsnleQMrm9IO"
      },
      "source": [
        "country_ip = {}\n",
        "ctr = 0\n",
        "for ip in ip_addresses:\n",
        "  ctr = ctr+1\n",
        "  country_code = DbIpCity.get(ip, api_key='free')\n",
        "  country = pycountry.countries.get(alpha_2=country_code.country)\n",
        "  if country.name in country_ip:\n",
        "    country_ip[country.name].append(ip)\n",
        "  else:\n",
        "    country_ip[country.name] = [ip]\n",
        "  print('num : ',ctr,' | ip : ',ip,' | country code : ',country_code.country,' | country : ',country.name)"
      ],
      "execution_count": null,
      "outputs": []
    },
    {
      "cell_type": "markdown",
      "metadata": {
        "id": "_BpceYt_TsH-"
      },
      "source": [
        "## Sorting the dictionary alphabetically if required"
      ]
    },
    {
      "cell_type": "code",
      "metadata": {
        "id": "ZzYrenvHyrgn"
      },
      "source": [
        "ans = {}\n",
        "for i in sorted(country_ip):\n",
        "  ans[i] = len(country_ip[i])\n",
        "country_ip = ans\n",
        "print(json.dumps(country_ip, indent=4))"
      ],
      "execution_count": null,
      "outputs": []
    },
    {
      "cell_type": "markdown",
      "metadata": {
        "id": "qJ9CUa2qUFQ5"
      },
      "source": [
        "## Converting data into a csv file with headers 'Country' and 'Number of Users'\n",
        "\n",
        "Here `Number of Users` stores the number of users accessing the LearnBasics service via FreeBasic HTTP Proxy from that corresponding `Country` value"
      ]
    },
    {
      "cell_type": "code",
      "metadata": {
        "id": "mJbCjHFstExl"
      },
      "source": [
        "import csv\n",
        "csv_columns = ['Country','Number of Users']\n",
        "csv_file = \"freebasic_users.csv\"\n",
        "\n",
        "try:\n",
        "    with open(csv_file, 'w') as csvfile:\n",
        "        writer = csv.DictWriter(csvfile, fieldnames=csv_columns)\n",
        "        writer.writeheader()\n",
        "        for country,users in country_ip.items():\n",
        "          writer.writerow({'Country':country, 'Number of Users':users})\n",
        "except IOError:\n",
        "    print(\"I/O error\")"
      ],
      "execution_count": 14,
      "outputs": []
    },
    {
      "cell_type": "markdown",
      "metadata": {
        "id": "x7xetRZhURM-"
      },
      "source": [
        "## Reading content of generated csv file using pandas \n",
        "\n",
        "[ Total Number of Countries that have accessed LearnBasics app via FreeBasics server  is 29 ]"
      ]
    },
    {
      "cell_type": "code",
      "metadata": {
        "colab": {
          "base_uri": "https://localhost:8080/"
        },
        "id": "ZkoWkVmdwtuf",
        "outputId": "8b184308-4298-47cf-af85-91062f7a2f1b"
      },
      "source": [
        "import pandas \n",
        "csvFile = pandas.read_csv(csv_file) \n",
        "print(csvFile) "
      ],
      "execution_count": 15,
      "outputs": [
        {
          "output_type": "stream",
          "text": [
            "                                  Country  Number of Users\n",
            "0                                  Angola                2\n",
            "1                              Bangladesh               13\n",
            "2                                   Benin                3\n",
            "3                                Cambodia                1\n",
            "4                                Colombia                2\n",
            "5   Congo, The Democratic Republic of the               14\n",
            "6                                   Ghana                6\n",
            "7                                  Guinea                1\n",
            "8                                   India                1\n",
            "9                               Indonesia               27\n",
            "10                                   Iraq               57\n",
            "11                                  Kenya                3\n",
            "12                                 Malawi                6\n",
            "13                               Maldives                1\n",
            "14                                 Mexico               18\n",
            "15                               Mongolia                1\n",
            "16                             Mozambique                1\n",
            "17                                Myanmar               13\n",
            "18                                Nigeria               23\n",
            "19                               Pakistan               55\n",
            "20                                   Peru                4\n",
            "21                            Philippines              142\n",
            "22                                 Rwanda                4\n",
            "23                                Senegal                2\n",
            "24                           South Africa               26\n",
            "25           Tanzania, United Republic of                3\n",
            "26                               Thailand               15\n",
            "27                          United States                1\n",
            "28                                 Zambia               36\n"
          ],
          "name": "stdout"
        }
      ]
    },
    {
      "cell_type": "markdown",
      "metadata": {
        "id": "uFUOIYr5UZL8"
      },
      "source": [
        "## Downloading the generated csv file on local machine if required"
      ]
    },
    {
      "cell_type": "code",
      "metadata": {
        "colab": {
          "base_uri": "https://localhost:8080/",
          "height": 17
        },
        "id": "zrvLUicIyLd8",
        "outputId": "4afe5a51-2c51-49f0-e1b4-4148a35a2ca8"
      },
      "source": [
        "from google.colab import files\n",
        "files.download(\"freebasic_users.csv\")"
      ],
      "execution_count": 16,
      "outputs": [
        {
          "output_type": "display_data",
          "data": {
            "application/javascript": [
              "\n",
              "    async function download(id, filename, size) {\n",
              "      if (!google.colab.kernel.accessAllowed) {\n",
              "        return;\n",
              "      }\n",
              "      const div = document.createElement('div');\n",
              "      const label = document.createElement('label');\n",
              "      label.textContent = `Downloading \"${filename}\": `;\n",
              "      div.appendChild(label);\n",
              "      const progress = document.createElement('progress');\n",
              "      progress.max = size;\n",
              "      div.appendChild(progress);\n",
              "      document.body.appendChild(div);\n",
              "\n",
              "      const buffers = [];\n",
              "      let downloaded = 0;\n",
              "\n",
              "      const channel = await google.colab.kernel.comms.open(id);\n",
              "      // Send a message to notify the kernel that we're ready.\n",
              "      channel.send({})\n",
              "\n",
              "      for await (const message of channel.messages) {\n",
              "        // Send a message to notify the kernel that we're ready.\n",
              "        channel.send({})\n",
              "        if (message.buffers) {\n",
              "          for (const buffer of message.buffers) {\n",
              "            buffers.push(buffer);\n",
              "            downloaded += buffer.byteLength;\n",
              "            progress.value = downloaded;\n",
              "          }\n",
              "        }\n",
              "      }\n",
              "      const blob = new Blob(buffers, {type: 'application/binary'});\n",
              "      const a = document.createElement('a');\n",
              "      a.href = window.URL.createObjectURL(blob);\n",
              "      a.download = filename;\n",
              "      div.appendChild(a);\n",
              "      a.click();\n",
              "      div.remove();\n",
              "    }\n",
              "  "
            ],
            "text/plain": [
              "<IPython.core.display.Javascript object>"
            ]
          },
          "metadata": {
            "tags": []
          }
        },
        {
          "output_type": "display_data",
          "data": {
            "application/javascript": [
              "download(\"download_255b9a46-7333-4c20-9e0f-570b48827b67\", \"freebasic_users.csv\", 421)"
            ],
            "text/plain": [
              "<IPython.core.display.Javascript object>"
            ]
          },
          "metadata": {
            "tags": []
          }
        }
      ]
    }
  ]
}