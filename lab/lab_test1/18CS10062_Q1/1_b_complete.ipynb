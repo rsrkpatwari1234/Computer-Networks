{
  "nbformat": 4,
  "nbformat_minor": 0,
  "metadata": {
    "colab": {
      "name": "1_b.ipynb",
      "provenance": [],
      "collapsed_sections": []
    },
    "kernelspec": {
      "name": "python3",
      "display_name": "Python 3"
    }
  },
  "cells": [
    {
      "cell_type": "markdown",
      "metadata": {
        "id": "4nn79nsPvRb6"
      },
      "source": [
        "# CS 39006: Networks Lab test\n",
        "\n",
        "## Name : Radhika Patwari\n",
        "## Roll no. : 18CS10062"
      ]
    },
    {
      "cell_type": "markdown",
      "metadata": {
        "id": "7F4aFhl4u_nz"
      },
      "source": [
        "## Installing 1 library required for various operations\n",
        "\n",
        "    xmltodict : It parses xml file (.pdml extension) into dictionary for carrying various operations [Info : https://pypi.org/project/xmltodict/]\n",
        "   \n"
      ]
    },
    {
      "cell_type": "code",
      "metadata": {
        "colab": {
          "base_uri": "https://localhost:8080/"
        },
        "id": "j92mOHCeuKJW",
        "outputId": "5ab8287b-864b-49e8-c715-d7ede5997489"
      },
      "source": [
        "!pip install xmltodict"
      ],
      "execution_count": 2,
      "outputs": [
        {
          "output_type": "stream",
          "text": [
            "Collecting xmltodict\n",
            "  Using cached https://files.pythonhosted.org/packages/28/fd/30d5c1d3ac29ce229f6bdc40bbc20b28f716e8b363140c26eff19122d8a5/xmltodict-0.12.0-py2.py3-none-any.whl\n",
            "Installing collected packages: xmltodict\n",
            "Successfully installed xmltodict-0.12.0\n"
          ],
          "name": "stdout"
        }
      ]
    },
    {
      "cell_type": "markdown",
      "metadata": {
        "id": "7kROwf7svhXK"
      },
      "source": [
        "## Importing the required libraries"
      ]
    },
    {
      "cell_type": "code",
      "metadata": {
        "id": "Q8Edo-hQvcUH"
      },
      "source": [
        "import xmltodict                                            # xml to dict library\n",
        "import json                                                 # printing and checking in json format"
      ],
      "execution_count": 3,
      "outputs": []
    },
    {
      "cell_type": "code",
      "metadata": {
        "id": "PsaAMOMTvmPN"
      },
      "source": [
        "xml_file = '/content/filtered_smtp.pdml'\n",
        "with open(xml_file, 'r', encoding='utf-8') as fd:\n",
        "    xml_data = xmltodict.parse(fd.read())"
      ],
      "execution_count": 4,
      "outputs": []
    },
    {
      "cell_type": "code",
      "metadata": {
        "id": "dC_wflevvmSA"
      },
      "source": [
        "print(len(xml_data['pdml']['packet']))\n",
        "print(type(xml_data['pdml']['packet']))\n",
        "print(json.dumps(xml_data['pdml']['packet'][0]['proto'][5],indent=4))\n",
        "print(type(xml_data['pdml']['packet'][0]['proto'][0]))"
      ],
      "execution_count": null,
      "outputs": []
    },
    {
      "cell_type": "code",
      "metadata": {
        "colab": {
          "base_uri": "https://localhost:8080/"
        },
        "id": "yhn1UFTovmU5",
        "outputId": "4f4cf0bf-dfa8-4bf9-f9b0-f78beb8f9b78"
      },
      "source": [
        "## checking the number of emails  using the server ready code \"220\"\n",
        "\n",
        "count_mails = 0\n",
        "sender = []\n",
        "receiver = []\n",
        "subject = []\n",
        "mail_body = []\n",
        "\n",
        "subject_str = \"\"\n",
        "mail_body_str = \"\"\n",
        "\n",
        "for packet in xml_data['pdml']['packet']:\n",
        "  for proto in packet['proto']:\n",
        "    if(proto['@name'] == 'smtp'):\n",
        "      field = proto['field']\n",
        "      for smtp in field:\n",
        "        if(smtp['@name'] == 'smtp.response'):\n",
        "          fields = smtp['field']\n",
        "          for code in fields:\n",
        "            if(code['@name'] == 'smtp.response.code' and code['@show'] == '220'):\n",
        "              count_mails = count_mails + 1\n",
        "              ongoing = 1\n",
        "            elif(code['@name'] == 'smtp.response.code' and code['@show'] == '221'):\n",
        "              ongoing = 0\n",
        "              subject.append(subject_str)\n",
        "              mail_body.append(mail_body_str)\n",
        "              subject_str = \"\"\n",
        "              mail_body_str = \"\"\n",
        "              #print(json.dumps(code,indent=4))\n",
        "        if(smtp['@name'] == 'smtp.command_line'):\n",
        "          fields = smtp['field']\n",
        "          #print(type(fields)) \n",
        "          #print(json.dumps(fields,indent=4)) \n",
        "          #print(len(fields))\n",
        "          if(type(fields) is list):\n",
        "            for code in fields:\n",
        "              if(code['@name'] == 'smtp.req.parameter'):\n",
        "                if(code['@show'].startswith(\"TO\")):\n",
        "                  receiver.append(code['@show'])\n",
        "                elif(code['@show'].startswith(\"FROM\")):\n",
        "                  sender.append(code['@show'])\n",
        "              #print(json.dumps(fields[i],indent=4))  \n",
        "            \n",
        "    if(proto['@name'] == 'imf'):\n",
        "      field = proto['field']\n",
        "      for smtp in field:\n",
        "        if(smtp['@name'] == 'imf.subject'):\n",
        "          subject_str = subject_str + smtp['@show']\n",
        "        if(smtp['@name'] == 'imf.message_text'):\n",
        "          mail_body_str = mail_body_str + smtp['field']['@show']\n",
        "print(\"i) Number of emails sent in this entire conversation : \" + str(count_mails))\n",
        "\n",
        "print(\"senders:\")\n",
        "for i in sender:\n",
        "  print(i)\n",
        "print('\\n')\n",
        "print(\"receiver:\")\n",
        "for i in receiver:\n",
        "  print(i)\n",
        "print('\\n')\n",
        "for i in subject:\n",
        "  print(\"subject start :\")\n",
        "  print(i)\n",
        "  print(\"subject end :\\n\")\n",
        "\n",
        "for i in mail_body:\n",
        "  print(\"mail body start :\")\n",
        "  print(i)\n",
        "  print(\"mail body end :\\n\")"
      ],
      "execution_count": 48,
      "outputs": [
        {
          "output_type": "stream",
          "text": [
            "i) Number of emails sent in this entire conversation : 2\n",
            "senders:\n",
            "FROM:<alice@iitkgp.ac.in> size=67\n",
            "FROM:<bob@ucla.edu> size=64\n",
            "\n",
            "\n",
            "receiver:\n",
            "TO:<bob@ucla.edu>\n",
            "TO:<alice@iitkgp.ac.in>\n",
            "\n",
            "\n",
            "subject start :\n",
            "Hi Bob\n",
            "subject end :\n",
            "\n",
            "subject start :\n",
            "Hello Alice,\n",
            "subject end :\n",
            "\n",
            "mail body start :\n",
            "Let us meet for Dinner at 8PM in Paris Cafe.  \n",
            "mail body end :\n",
            "\n",
            "mail body start :\n",
            "Yes, sure. But please move it to 9.  \n",
            "mail body end :\n",
            "\n"
          ],
          "name": "stdout"
        }
      ]
    },
    {
      "cell_type": "code",
      "metadata": {
        "id": "ugbYIQpfzNbs"
      },
      "source": [
        ""
      ],
      "execution_count": null,
      "outputs": []
    }
  ]
}